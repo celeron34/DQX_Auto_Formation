{
 "cells": [
  {
   "cell_type": "code",
   "execution_count": 1,
   "metadata": {},
   "outputs": [],
   "source": [
    "from party import AutoPartyFormation as formation\n",
    "# from AutoPartyFormation240615 import AutoPartyFormation as formation\n",
    "from random import randint\n",
    "from typing import Any"
   ]
  },
  {
   "cell_type": "code",
   "execution_count": 2,
   "metadata": {},
   "outputs": [],
   "source": [
    "f = formation()"
   ]
  },
  {
   "cell_type": "code",
   "execution_count": 3,
   "metadata": {},
   "outputs": [],
   "source": [
    "role_pool = ['魔戦', '霧レ', '投レ', '札', '継', '攻', '攻', '攻']\n",
    "iterater = range(30)\n",
    "for i in iterater:\n",
    "    r = randint(0, 7)\n",
    "    f.addMember(f'u{i%15}', role_pool[r])\n",
    "    print(f'u{i%15} {role_pool[r]}')"
   ]
  },
  {
   "cell_type": "code",
   "execution_count": 4,
   "metadata": {},
   "outputs": [],
   "source": [
    "# f.addMember('u1','札')\n",
    "# f.addMember('u2','継')\n",
    "# f.addMember('u3','攻')\n",
    "# f.addMember('u1','魔戦')\n",
    "# f.addMember('u2','魔戦')\n",
    "# f.addMember('u3','魔戦')"
   ]
  },
  {
   "cell_type": "code",
   "execution_count": 5,
   "metadata": {},
   "outputs": [],
   "source": [
    "# f.remMember('u1', '札')\n",
    "# f.remMember('u1', '魔戦')"
   ]
  },
  {
   "cell_type": "code",
   "execution_count": 6,
   "metadata": {},
   "outputs": [
    {
     "name": "stdout",
     "output_type": "stream",
     "text": [
      "魔戦 7.0\n",
      "霧レ 4.0\n",
      "投レ 5.0\n",
      "札 1.0\n",
      "継 2.0\n",
      "攻 3.666666666666667\n"
     ]
    }
   ],
   "source": [
    "trance_dict = {'魔戦':'魔戦', '霧レ':'レン', '投レ':'レン', '札':'火力', '継':'火力', '攻':'火力', '攻':'火力', '攻':'火力'}\n",
    "f.formation({'魔戦':1, '霧レ':1, '投レ':1, '札':1, '継':1, '攻':3}, {'魔戦':1, 'レン':1, '火力':2}, trance_dict)"
   ]
  },
  {
   "cell_type": "code",
   "execution_count": 7,
   "metadata": {},
   "outputs": [],
   "source": [
    "# trance_dict = {'魔戦':'魔戦', '霧レ':'レン', '投レ':'レン', '札':'火力', '継':'火力', '攻':'火力', '攻':'火力', '攻':'火力'}\n",
    "\n",
    "# full, light = f.formation({'魔戦':1, '霧レ':1, '投レ':1, '札':1, '継':1, '攻':3}, {'魔戦':1, 'レン':1, '火力':2}, trance_dict)"
   ]
  },
  {
   "cell_type": "code",
   "execution_count": 8,
   "metadata": {},
   "outputs": [],
   "source": [
    "# print(full)\n",
    "# print(light)"
   ]
  }
 ],
 "metadata": {
  "kernelspec": {
   "display_name": "Python 3",
   "language": "python",
   "name": "python3"
  },
  "language_info": {
   "codemirror_mode": {
    "name": "ipython",
    "version": 3
   },
   "file_extension": ".py",
   "mimetype": "text/x-python",
   "name": "python",
   "nbconvert_exporter": "python",
   "pygments_lexer": "ipython3",
   "version": "3.12.3"
  }
 },
 "nbformat": 4,
 "nbformat_minor": 2
}
