{
 "cells": [
  {
   "cell_type": "code",
   "execution_count": 1,
   "metadata": {},
   "outputs": [],
   "source": [
    "job = ['魔戦', 'レン', '火力', '火力']"
   ]
  },
  {
   "cell_type": "code",
   "execution_count": 30,
   "metadata": {},
   "outputs": [],
   "source": [
    "def make_pt() -> list[str]:\n",
    "    pt1 = []\n",
    "    count = 0\n",
    "    for p in range(2 ** 4 -1, 0, -1):\n",
    "        pt = []\n",
    "        for i in range(4):\n",
    "            if (2**i) & p:\n",
    "                pt.append(job[i])\n",
    "        pt1.append(pt)\n",
    "        count += 1\n",
    "    pt1\n",
    "    del_num = []\n",
    "    for pt in range(len(pt1)):\n",
    "        for p in range(pt + 1, len(pt1)):\n",
    "            if pt1[pt] == pt1[p]:\n",
    "                del_num.append(p)\n",
    "    del_num.reverse()\n",
    "    for d in del_num:\n",
    "        del pt1[d]\n",
    "    for pt in range(len(pt1)):\n",
    "        for p in range(pt + 1, len(pt1)):\n",
    "            if len(pt1[pt]) < len(pt1[p]):\n",
    "                q = pt1[pt]\n",
    "                pt1[pt] = pt1[p]\n",
    "                pt1[p] = q\n",
    "    return pt1"
   ]
  },
  {
   "cell_type": "code",
   "execution_count": 34,
   "metadata": {},
   "outputs": [],
   "source": [
    "double_pt = []\n",
    "count = 0\n",
    "for outer in make_pt():\n",
    "    for inner in make_pt()[count:]:\n",
    "        if len(outer) + len(inner) >= 5 and len(outer) + len(inner) < 8:\n",
    "            double_pt.append([outer, inner])\n",
    "    count += 1"
   ]
  },
  {
   "cell_type": "code",
   "execution_count": 35,
   "metadata": {},
   "outputs": [
    {
     "data": {
      "text/plain": [
       "29"
      ]
     },
     "execution_count": 35,
     "metadata": {},
     "output_type": "execute_result"
    }
   ],
   "source": [
    "len(double_pt)"
   ]
  },
  {
   "cell_type": "code",
   "execution_count": 39,
   "metadata": {},
   "outputs": [
    {
     "name": "stdout",
     "output_type": "stream",
     "text": [
      "[['魔戦', 'レン', '火力', '火力'], ['魔戦', 'レン', '火力', '火力']]\n",
      "[['レン', '火力', '火力'], ['魔戦', 'レン', '火力', '火力']]\n",
      "[['魔戦', '火力', '火力'], ['魔戦', 'レン', '火力', '火力']]\n",
      "[['魔戦', 'レン', '火力'], ['魔戦', 'レン', '火力', '火力']]\n",
      "[['火力', '火力'], ['魔戦', 'レン', '火力', '火力']]\n",
      "[['レン', '火力'], ['魔戦', 'レン', '火力', '火力']]\n",
      "[['魔戦', '火力'], ['魔戦', 'レン', '火力', '火力']]\n",
      "[['魔戦', 'レン'], ['魔戦', 'レン', '火力', '火力']]\n",
      "[['火力'], ['魔戦', 'レン', '火力', '火力']]\n",
      "[['レン'], ['魔戦', 'レン', '火力', '火力']]\n",
      "[['魔戦'], ['魔戦', 'レン', '火力', '火力']]\n",
      "[['レン', '火力', '火力'], ['レン', '火力', '火力']]\n",
      "[['魔戦', '火力', '火力'], ['レン', '火力', '火力']]\n",
      "[['魔戦', 'レン', '火力'], ['レン', '火力', '火力']]\n",
      "[['火力', '火力'], ['レン', '火力', '火力']]\n",
      "[['レン', '火力'], ['レン', '火力', '火力']]\n",
      "[['魔戦', '火力'], ['レン', '火力', '火力']]\n",
      "[['魔戦', 'レン'], ['レン', '火力', '火力']]\n",
      "[['魔戦', '火力', '火力'], ['魔戦', '火力', '火力']]\n",
      "[['魔戦', 'レン', '火力'], ['魔戦', '火力', '火力']]\n",
      "[['火力', '火力'], ['魔戦', '火力', '火力']]\n",
      "[['レン', '火力'], ['魔戦', '火力', '火力']]\n",
      "[['魔戦', '火力'], ['魔戦', '火力', '火力']]\n",
      "[['魔戦', 'レン'], ['魔戦', '火力', '火力']]\n",
      "[['魔戦', 'レン', '火力'], ['魔戦', 'レン', '火力']]\n",
      "[['火力', '火力'], ['魔戦', 'レン', '火力']]\n",
      "[['レン', '火力'], ['魔戦', 'レン', '火力']]\n",
      "[['魔戦', '火力'], ['魔戦', 'レン', '火力']]\n",
      "[['魔戦', 'レン'], ['魔戦', 'レン', '火力']]\n"
     ]
    }
   ],
   "source": [
    "del_num = []\n",
    "for pt in range(len(double_pt)):\n",
    "    for p in range(pt + 1, len(double_pt)):\n",
    "        \n",
    "        if double_pt[pt] == double_pt[p]:\n",
    "            del_num.append(p)\n",
    "del_num.reverse()\n",
    "for d in del_num:\n",
    "    del double_pt[d]"
   ]
  }
 ],
 "metadata": {
  "kernelspec": {
   "display_name": "Python 3",
   "language": "python",
   "name": "python3"
  },
  "language_info": {
   "codemirror_mode": {
    "name": "ipython",
    "version": 3
   },
   "file_extension": ".py",
   "mimetype": "text/x-python",
   "name": "python",
   "nbconvert_exporter": "python",
   "pygments_lexer": "ipython3",
   "version": "3.12.3"
  }
 },
 "nbformat": 4,
 "nbformat_minor": 2
}
