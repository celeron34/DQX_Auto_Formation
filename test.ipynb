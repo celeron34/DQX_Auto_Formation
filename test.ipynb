{
 "cells": [
  {
   "cell_type": "code",
   "execution_count": 18,
   "metadata": {},
   "outputs": [],
   "source": [
    "class AutoPartyFormation:\n",
    "    def __init__(self, roles) -> None:\n",
    "        self.role_preference = {role:[] for role in roles}\n",
    "        self.roles = roles\n",
    "        self.players:dict[str, list] = {}\n",
    "    \n",
    "    def addMember(self, user:str, role:str):\n",
    "        self.role_preference[role].append(user)\n",
    "        if user in self.players:\n",
    "            self.players[user].append(role)\n",
    "        else:\n",
    "            self.players[user] = [role]\n",
    "\n",
    "    def remMember(self, user:str, role:str):\n",
    "        self.role_preference[role].remove(user)\n",
    "        if user in self.players:\n",
    "            self.players[user].pop(role)\n",
    "        else: pass\n",
    "\n",
    "    def formation(self):\n",
    "        assigned_players = set()\n",
    "        parties = []\n",
    "        while len(assigned_players) < len(self.players):\n",
    "            party = {role: [] for role in self.roles}\n",
    "            for role in self.roles:\n",
    "                for player in self.role_preference[role]:\n",
    "                    if player not in assigned_players and len(party[role]) < self.roles[role]:\n",
    "                        party[role].append(player)\n",
    "                        assigned_players.add(player)\n",
    "                    if len(party[role]) == self.roles[role]: break\n",
    "            parties.append(party)\n",
    "        \n",
    "        # complete_parties = []\n",
    "        # for party in parties:\n",
    "        #     if all(len(party[role]) == self.roles[role] for role in self.roles):\n",
    "        #         complete_parties.append(party)\n",
    "        # return complete_parties"
   ]
  },
  {
   "cell_type": "code",
   "execution_count": 19,
   "metadata": {},
   "outputs": [],
   "source": [
    "pformation = AutoPartyFormation({'r1':1, 'r2':1, 'r3':2})"
   ]
  },
  {
   "cell_type": "code",
   "execution_count": 4,
   "metadata": {},
   "outputs": [],
   "source": [
    "from random import randint"
   ]
  },
  {
   "cell_type": "code",
   "execution_count": 5,
   "metadata": {},
   "outputs": [],
   "source": [
    "from AutoPartyFormation import AutoPartyFormation as sub_formation\n",
    "pformation = sub_formation({'r1':1, 'r2':1, 'r3':2})"
   ]
  },
  {
   "cell_type": "code",
   "execution_count": 6,
   "metadata": {},
   "outputs": [
    {
     "name": "stdout",
     "output_type": "stream",
     "text": [
      "u0:['r3']\n",
      "u1:['r1']\n",
      "u2:['r1']\n",
      "u3:['r3']\n",
      "u4:['r3']\n",
      "u5:['r3']\n",
      "u6:['r2']\n",
      "u7:['r3']\n",
      "u8:['r3']\n",
      "u9:['r3']\n",
      "u10:['r2']\n",
      "u11:['r1']\n",
      "u12:['r1']\n",
      "u13:['r2']\n",
      "u14:['r2']\n",
      "u15:['r1']\n",
      "u16:['r2']\n",
      "u17:['r1']\n",
      "u18:['r2']\n",
      "u19:['r1']\n"
     ]
    }
   ],
   "source": [
    "for i in range(20):\n",
    "    pformation.addMember(f'u{i}', f'r{randint(1,3)}')\n",
    "for plaier in pformation.players:\n",
    "    print(f'{plaier}:{pformation.players[plaier]}')"
   ]
  },
  {
   "cell_type": "code",
   "execution_count": 7,
   "metadata": {},
   "outputs": [
    {
     "data": {
      "text/plain": [
       "[{'r1': ['u1'], 'r2': ['u6'], 'r3': ['u0', 'u3']},\n",
       " {'r1': ['u2'], 'r2': ['u10'], 'r3': ['u4', 'u5']},\n",
       " {'r1': ['u11'], 'r2': ['u13'], 'r3': ['u7', 'u8']}]"
      ]
     },
     "execution_count": 7,
     "metadata": {},
     "output_type": "execute_result"
    }
   ],
   "source": [
    "pformation.formation()"
   ]
  }
 ],
 "metadata": {
  "kernelspec": {
   "display_name": "Python 3",
   "language": "python",
   "name": "python3"
  },
  "language_info": {
   "codemirror_mode": {
    "name": "ipython",
    "version": 3
   },
   "file_extension": ".py",
   "mimetype": "text/x-python",
   "name": "python",
   "nbconvert_exporter": "python",
   "pygments_lexer": "ipython3",
   "version": "3.12.3"
  }
 },
 "nbformat": 4,
 "nbformat_minor": 2
}
